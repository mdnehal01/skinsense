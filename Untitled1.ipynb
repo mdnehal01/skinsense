{
 "cells": [
  {
   "cell_type": "code",
   "execution_count": 58,
   "id": "8d1f38e9",
   "metadata": {},
   "outputs": [],
   "source": [
    "import pandas as pd\n",
    "import numpy as np \n",
    "import random"
   ]
  },
  {
   "cell_type": "code",
   "execution_count": 59,
   "id": "b55899a0",
   "metadata": {},
   "outputs": [],
   "source": [
    "# the number of rows in the dataset\n",
    "rows = 1000"
   ]
  },
  {
   "cell_type": "code",
   "execution_count": 60,
   "id": "37608d85",
   "metadata": {},
   "outputs": [],
   "source": [
    "# defining values for each column\n",
    "age = [random.randint(15, 65) for i in range(rows)]\n",
    "gender = [random.choice(['Male', 'Female']) for i in range(rows)]\n",
    "conditions = [random.choice([\"iron_overload\",'no_issues','anemic', 'obesity','cardiovascular','low_energy','kidney_issues','uric_acid','osteoporosis']) for i in range(rows)]\n",
    "weight = [random.randint(20,140) for i in range(rows)]\n",
    "stress = [random.choice(['No','manageable','yes']) for i in range(rows)]\n",
    "sleep = [random.choice(['lessthan6hrs', '6to8hrs']) for i in range(rows)]\n",
    "physical_activity = [random.choice(['very_less', 'normal','high']) for i in range(rows)]"
   ]
  },
  {
   "cell_type": "code",
   "execution_count": 61,
   "id": "4455cc3d",
   "metadata": {},
   "outputs": [],
   "source": [
    "r_calo=[]\n",
    "r_fat=[]\n",
    "r_pro=[]\n",
    "r_iro=[]\n",
    "r_cal=[]\n"
   ]
  },
  {
   "cell_type": "code",
   "execution_count": 62,
   "id": "25a3065a",
   "metadata": {},
   "outputs": [],
   "source": [
    "for i in range(rows):\n",
    "    if conditions[i]==\"iron_overload\":\n",
    "        r_iro.append(0)\n",
    "        r_pro.append(1)\n",
    "        r_calo.append(1)\n",
    "        r_cal.append(1)\n",
    "    elif conditions[i]==\"anemic\":\n",
    "        r_iro.append(1)\n",
    "        r_pro.append(1)\n",
    "        r_calo.append(1)\n",
    "    elif conditions[i]=='obesity':\n",
    "        r_fat.append(0)\n",
    "        r_pro.append(1)\n",
    "    elif conditions[i]=='cardiovascular':\n",
    "        r_fat.append(0)\n",
    "        r_pro.append(1)\n",
    "    elif conditions[i]=='low_energy':\n",
    "        r_calo.append(1)\n",
    "        r_iro.append(1)\n",
    "        r_pro.append(1)\n",
    "        r_fat.append(1)\n",
    "    elif conditions[i]=='kidney_issues':\n",
    "        r_pro.append(0) \n",
    "        r_calo.append(1)\n",
    "    elif conditions[i]=='osteoporosis':\n",
    "        r_cal.append(1)\n",
    "        r_pro.append(1)\n",
    "        r_calo.append(1)\n",
    "    elif conditions[i]=='uric_acid':\n",
    "        r_cal.append(1)\n",
    "        r_pro.append(0)\n",
    "        r_calo.append(1)\n",
    "    elif physical_activity[i]=='high' and physical_activity[i]=='normal': \n",
    "        r_calo.append(1)\n",
    "        r_pro.append(1)\n",
    "        r_fat.append(1)\n",
    "    elif physical_activity[i]=='very_less':\n",
    "        r_calo.append(0)\n",
    "        r_pro.append(1)\n",
    "        r_cal.append(1)\n",
    "    elif weight in range(90,140):\n",
    "        r_fat.append(0)\n",
    "    elif weight in range(20,50):\n",
    "        r_fat.append(1)\n",
    "        r_pro.append(1)\n",
    "        r_calo.append(1)\n",
    "        r_cal.append(1)\n",
    "    elif stress[i]=='yes':\n",
    "        r_fat.append(0)\n",
    "        r_calo.append(1)\n",
    "        r_pro.append(1)\n",
    "    elif conditions[i]=='no_issues':\n",
    "        r_fat.append(1)\n",
    "        r_pro.append(1)\n",
    "        r_calo.append(1)\n",
    "        r_cal.append(1)\n",
    "        r_iro.append(1)\n",
    "    \n",
    "    else:\n",
    "        r_fat.append(1)\n",
    "        r_pro.append(1)\n",
    "        r_calo.append(1)\n",
    "        r_cal.append(1)\n",
    "        r_iro.append(1)\n",
    "        \n"
   ]
  },
  {
   "cell_type": "code",
   "execution_count": 63,
   "id": "9c938f5a",
   "metadata": {},
   "outputs": [
    {
     "data": {
      "text/plain": [
       "392"
      ]
     },
     "execution_count": 63,
     "metadata": {},
     "output_type": "execute_result"
    }
   ],
   "source": [
    "np.size(r_cal)"
   ]
  },
  {
   "cell_type": "code",
   "execution_count": null,
   "id": "d22d60f2",
   "metadata": {},
   "outputs": [],
   "source": []
  }
 ],
 "metadata": {
  "kernelspec": {
   "display_name": "Python 3 (ipykernel)",
   "language": "python",
   "name": "python3"
  },
  "language_info": {
   "codemirror_mode": {
    "name": "ipython",
    "version": 3
   },
   "file_extension": ".py",
   "mimetype": "text/x-python",
   "name": "python",
   "nbconvert_exporter": "python",
   "pygments_lexer": "ipython3",
   "version": "3.11.5"
  }
 },
 "nbformat": 4,
 "nbformat_minor": 5
}
