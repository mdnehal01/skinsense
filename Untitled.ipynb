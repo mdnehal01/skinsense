{
 "cells": [
  {
   "cell_type": "code",
   "execution_count": null,
   "id": "f53295a4",
   "metadata": {},
   "outputs": [],
   "source": []
  },
  {
   "cell_type": "code",
   "execution_count": 20,
   "id": "d4ec943e",
   "metadata": {},
   "outputs": [
    {
     "name": "stdout",
     "output_type": "stream",
     "text": [
      "[0]\n",
      "Normal to Dry ['No Issues']\n"
     ]
    }
   ],
   "source": [
    "import joblib\n",
    "import numpy as np\n",
    "\n",
    "model1 = joblib.load('model_sensitive.pkl')\n",
    "\n",
    "data_1 =  64,  0,  1,  1,  0,  1,  0,  0,  0\n",
    "data_2 = 40,  1,  1,  0,  1,  1,  0,  1,  0\n",
    "\n",
    "data2 = np.array(data_2)\n",
    "data1 = np.array(data_1)\n",
    "\n",
    "prediction = model1.predict([data2])\n",
    "\n",
    "print(prediction)\n",
    "\n",
    "if prediction==1:\n",
    "    result= \"Sensitive\"\n",
    "\n",
    "elif prediction==0:\n",
    "    result= \"Normal to Dry\"\n",
    "\n",
    "    \n",
    "\n",
    "model2 = joblib.load('model_problem.pkl')\n",
    "prediction2 = model2.predict([data2])\n",
    "print(result, prediction2)"
   ]
  },
  {
   "cell_type": "code",
   "execution_count": null,
   "id": "6a6a093b",
   "metadata": {},
   "outputs": [],
   "source": []
  },
  {
   "cell_type": "code",
   "execution_count": null,
   "id": "da0d0730",
   "metadata": {},
   "outputs": [],
   "source": []
  }
 ],
 "metadata": {
  "kernelspec": {
   "display_name": "Python 3 (ipykernel)",
   "language": "python",
   "name": "python3"
  },
  "language_info": {
   "codemirror_mode": {
    "name": "ipython",
    "version": 3
   },
   "file_extension": ".py",
   "mimetype": "text/x-python",
   "name": "python",
   "nbconvert_exporter": "python",
   "pygments_lexer": "ipython3",
   "version": "3.11.5"
  }
 },
 "nbformat": 4,
 "nbformat_minor": 5
}
