{
 "cells": [
  {
   "cell_type": "code",
   "execution_count": null,
   "id": "f53295a4",
   "metadata": {},
   "outputs": [],
   "source": []
  },
  {
   "cell_type": "code",
   "execution_count": 2,
   "id": "d4ec943e",
   "metadata": {},
   "outputs": [
    {
     "ename": "NameError",
     "evalue": "name 'data1' is not defined",
     "output_type": "error",
     "traceback": [
      "\u001b[0;31m---------------------------------------------------------------------------\u001b[0m",
      "\u001b[0;31mNameError\u001b[0m                                 Traceback (most recent call last)",
      "Cell \u001b[0;32mIn[2], line 10\u001b[0m\n\u001b[1;32m      7\u001b[0m data_2 \u001b[38;5;241m=\u001b[39m \u001b[38;5;241m40\u001b[39m,  \u001b[38;5;241m1\u001b[39m,  \u001b[38;5;241m1\u001b[39m,  \u001b[38;5;241m0\u001b[39m,  \u001b[38;5;241m1\u001b[39m,  \u001b[38;5;241m1\u001b[39m,  \u001b[38;5;241m0\u001b[39m,  \u001b[38;5;241m1\u001b[39m,  \u001b[38;5;241m0\u001b[39m\n\u001b[1;32m      9\u001b[0m data2 \u001b[38;5;241m=\u001b[39m np\u001b[38;5;241m.\u001b[39marray(data_2)\n\u001b[0;32m---> 10\u001b[0m data1 \u001b[38;5;241m=\u001b[39m np\u001b[38;5;241m.\u001b[39marray(data1)\n\u001b[1;32m     12\u001b[0m prediction \u001b[38;5;241m=\u001b[39m model1\u001b[38;5;241m.\u001b[39mpredict([data2])\n\u001b[1;32m     14\u001b[0m \u001b[38;5;28mprint\u001b[39m(prediction)\n",
      "\u001b[0;31mNameError\u001b[0m: name 'data1' is not defined"
     ]
    }
   ],
   "source": [
    "import joblib\n",
    "import numpy as np\n",
    "\n",
    "model1 = joblib.load('model_sensitive.pkl')\n",
    "\n",
    "data_1 =  64,  0,  1,  1,  0,  1,  0,  0,  0\n",
    "data_2 = 40,  1,  1,  0,  1,  1,  0,  1,  0\n",
    "\n",
    "data2 = np.array(data_2)\n",
    "data1 = np.array(data_1)\n",
    "\n",
    "prediction = model1.predict([data2])\n",
    "\n",
    "print(prediction)\n",
    "\n",
    "if prediction==1:\n",
    "    result= \"Sensitive\"\n",
    "\n",
    "elif prediction==0:\n",
    "    result= \"Normal to Dry\"\n"
   ]
  },
  {
   "cell_type": "code",
   "execution_count": 44,
   "id": "6a6a093b",
   "metadata": {},
   "outputs": [
    {
     "name": "stdout",
     "output_type": "stream",
     "text": [
      "Normal to Dry ['Hyperpigmentation and Tanning']\n"
     ]
    }
   ],
   "source": [
    "model2 = joblib.load('model_problem.pkl')\n",
    "prediction2 = model2.predict([data])\n",
    "print(result, prediction2)"
   ]
  },
  {
   "cell_type": "code",
   "execution_count": null,
   "id": "da0d0730",
   "metadata": {},
   "outputs": [],
   "source": []
  }
 ],
 "metadata": {
  "kernelspec": {
   "display_name": "Python 3 (ipykernel)",
   "language": "python",
   "name": "python3"
  },
  "language_info": {
   "codemirror_mode": {
    "name": "ipython",
    "version": 3
   },
   "file_extension": ".py",
   "mimetype": "text/x-python",
   "name": "python",
   "nbconvert_exporter": "python",
   "pygments_lexer": "ipython3",
   "version": "3.11.5"
  }
 },
 "nbformat": 4,
 "nbformat_minor": 5
}
