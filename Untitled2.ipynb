{
 "cells": [
  {
   "cell_type": "code",
   "execution_count": 1,
   "id": "16cf4584",
   "metadata": {},
   "outputs": [],
   "source": [
    "import pandas as pd\n",
    "import random\n",
    "\n",
    "# Define the number of rows in the dataset\n",
    "num_rows = 1000\n",
    "\n",
    "# Define possible values for each column\n",
    "age_values = [random.randint(15, 65) for _ in range(num_rows)]\n",
    "gender_values = [random.choice(['Male', 'Female']) for _ in range(num_rows)]\n",
    "concerns_values = [random.choice(['Acne', 'Tan', 'Both','No issues']) for _ in range(num_rows)]\n",
    "        \n",
    "fine_line_values = [random.choice(['Deep', 'Few', 'No']) for _ in range(num_rows)]\n",
    "wrinkles_values = [random.choice(['Prominant', 'Few','No']) for _ in range(num_rows)]\n",
    "skin_react = [random.choice(['Oftern', 'Never']) for _ in range(num_rows)]\n",
    "forhead_oil = [random.choice(['Oily', 'Dry', 'Normal']) for _ in range(num_rows)]\n",
    "nose_oil = [random.choice(['Oily', 'Dry', 'Normal']) for _ in range(num_rows)]\n",
    "cheeks_oil = [random.choice(['Oily', 'Dry', 'Normal']) for _ in range(num_rows)]\n",
    "skin_feel = [random.choice(['Oily', 'Almost greasy', 'Normal']) for _ in range(num_rows)]"
   ]
  },
  {
   "cell_type": "code",
   "execution_count": null,
   "id": "1a271f22",
   "metadata": {},
   "outputs": [],
   "source": []
  },
  {
   "cell_type": "code",
   "execution_count": 2,
   "id": "d12e1d5a",
   "metadata": {},
   "outputs": [
    {
     "ename": "NameError",
     "evalue": "name 'acne_appear' is not defined",
     "output_type": "error",
     "traceback": [
      "\u001b[0;31m---------------------------------------------------------------------------\u001b[0m",
      "\u001b[0;31mNameError\u001b[0m                                 Traceback (most recent call last)",
      "Cell \u001b[0;32mIn[2], line 6\u001b[0m\n\u001b[1;32m      1\u001b[0m df \u001b[38;5;241m=\u001b[39m pd\u001b[38;5;241m.\u001b[39mDataFrame({\n\u001b[1;32m      2\u001b[0m     \u001b[38;5;124m'\u001b[39m\u001b[38;5;124mAge\u001b[39m\u001b[38;5;124m'\u001b[39m: age_values,\n\u001b[1;32m      3\u001b[0m     \u001b[38;5;124m'\u001b[39m\u001b[38;5;124mGender\u001b[39m\u001b[38;5;124m'\u001b[39m: gender_values,\n\u001b[1;32m      4\u001b[0m     \u001b[38;5;124m'\u001b[39m\u001b[38;5;124mConcerns\u001b[39m\u001b[38;5;124m'\u001b[39m: concerns_values,\n\u001b[1;32m      5\u001b[0m     \n\u001b[0;32m----> 6\u001b[0m     \u001b[38;5;124m'\u001b[39m\u001b[38;5;124mAcne Appear\u001b[39m\u001b[38;5;124m'\u001b[39m: acne_appear,\n\u001b[1;32m      7\u001b[0m     \u001b[38;5;124m'\u001b[39m\u001b[38;5;124mWhite black Tiny pimples\u001b[39m\u001b[38;5;124m'\u001b[39m: comedones_white_black_tinypimple,\n\u001b[1;32m      8\u001b[0m     \u001b[38;5;124m'\u001b[39m\u001b[38;5;124mPimples\u001b[39m\u001b[38;5;124m'\u001b[39m: pimples,\n\u001b[1;32m      9\u001b[0m     \u001b[38;5;124m'\u001b[39m\u001b[38;5;124mPuss Filled Pimples\u001b[39m\u001b[38;5;124m'\u001b[39m: puss_filles_pimples,\n\u001b[1;32m     10\u001b[0m     \u001b[38;5;124m'\u001b[39m\u001b[38;5;124mPast pimples spots\u001b[39m\u001b[38;5;124m'\u001b[39m: pits_depression,\n\u001b[1;32m     11\u001b[0m     \n\u001b[1;32m     12\u001b[0m     \u001b[38;5;124m'\u001b[39m\u001b[38;5;124mDarkPatches\u001b[39m\u001b[38;5;124m'\u001b[39m: dark_patches_values,\n\u001b[1;32m     13\u001b[0m     \u001b[38;5;124m'\u001b[39m\u001b[38;5;124mDarkSpots\u001b[39m\u001b[38;5;124m'\u001b[39m: dark_spots_values,\n\u001b[1;32m     14\u001b[0m     \u001b[38;5;124m'\u001b[39m\u001b[38;5;124mTanned\u001b[39m\u001b[38;5;124m'\u001b[39m: tanned_values,\n\u001b[1;32m     15\u001b[0m     \u001b[38;5;124m'\u001b[39m\u001b[38;5;124mSunscreen\u001b[39m\u001b[38;5;124m'\u001b[39m: sunscreen,\n\u001b[1;32m     16\u001b[0m     \n\u001b[1;32m     17\u001b[0m     \u001b[38;5;124m'\u001b[39m\u001b[38;5;124mFineLine\u001b[39m\u001b[38;5;124m'\u001b[39m: fine_line_values,\n\u001b[1;32m     18\u001b[0m     \u001b[38;5;124m'\u001b[39m\u001b[38;5;124mWrinkles\u001b[39m\u001b[38;5;124m'\u001b[39m: wrinkles_values,\n\u001b[1;32m     19\u001b[0m     \u001b[38;5;124m'\u001b[39m\u001b[38;5;124mSkinReact\u001b[39m\u001b[38;5;124m'\u001b[39m: skin_react,\n\u001b[1;32m     20\u001b[0m     \n\u001b[1;32m     21\u001b[0m     \u001b[38;5;124m'\u001b[39m\u001b[38;5;124mForehead Oil\u001b[39m\u001b[38;5;124m'\u001b[39m: forhead_oil,\n\u001b[1;32m     22\u001b[0m     \u001b[38;5;124m'\u001b[39m\u001b[38;5;124mNose Oil\u001b[39m\u001b[38;5;124m'\u001b[39m: nose_oil,\n\u001b[1;32m     23\u001b[0m     \u001b[38;5;124m'\u001b[39m\u001b[38;5;124mCheeks Oil\u001b[39m\u001b[38;5;124m'\u001b[39m: cheeks_oil,\n\u001b[1;32m     24\u001b[0m     \u001b[38;5;124m'\u001b[39m\u001b[38;5;124mSkin Feels\u001b[39m\u001b[38;5;124m'\u001b[39m: skin_feel\n\u001b[1;32m     25\u001b[0m     \n\u001b[1;32m     26\u001b[0m })\n\u001b[1;32m     28\u001b[0m \u001b[38;5;66;03m# Display the first few rows of the dataset\u001b[39;00m\n\u001b[1;32m     29\u001b[0m \u001b[38;5;28mprint\u001b[39m(df\u001b[38;5;241m.\u001b[39mhead(\u001b[38;5;241m1000\u001b[39m))\n",
      "\u001b[0;31mNameError\u001b[0m: name 'acne_appear' is not defined"
     ]
    }
   ],
   "source": [
    "df = pd.DataFrame({\n",
    "    'Age': age_values,\n",
    "    'Gender': gender_values,\n",
    "    'Concerns': concerns_values,\n",
    "    \n",
    "    'Acne Appear': acne_appear,\n",
    "    'White black Tiny pimples': comedones_white_black_tinypimple,\n",
    "    'Pimples': pimples,\n",
    "    'Puss Filled Pimples': puss_filles_pimples,\n",
    "    'Past pimples spots': pits_depression,\n",
    "    \n",
    "    'DarkPatches': dark_patches_values,\n",
    "    'DarkSpots': dark_spots_values,\n",
    "    'Tanned': tanned_values,\n",
    "    'Sunscreen': sunscreen,\n",
    "    \n",
    "    'FineLine': fine_line_values,\n",
    "    'Wrinkles': wrinkles_values,\n",
    "    'SkinReact': skin_react,\n",
    "    \n",
    "    'Forehead Oil': forhead_oil,\n",
    "    'Nose Oil': nose_oil,\n",
    "    'Cheeks Oil': cheeks_oil,\n",
    "    'Skin Feels': skin_feel\n",
    "    \n",
    "})\n",
    "\n",
    "# Display the first few rows of the dataset\n",
    "print(df.head(1000))"
   ]
  },
  {
   "cell_type": "code",
   "execution_count": null,
   "id": "7f4d9912",
   "metadata": {},
   "outputs": [],
   "source": []
  }
 ],
 "metadata": {
  "kernelspec": {
   "display_name": "Python 3 (ipykernel)",
   "language": "python",
   "name": "python3"
  },
  "language_info": {
   "codemirror_mode": {
    "name": "ipython",
    "version": 3
   },
   "file_extension": ".py",
   "mimetype": "text/x-python",
   "name": "python",
   "nbconvert_exporter": "python",
   "pygments_lexer": "ipython3",
   "version": "3.11.5"
  }
 },
 "nbformat": 4,
 "nbformat_minor": 5
}
